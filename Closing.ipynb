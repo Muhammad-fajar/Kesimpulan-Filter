{
 "cells": [
  {
   "cell_type": "code",
   "execution_count": null,
   "id": "165ca0e4-2e95-4f98-8c72-406f45412ac6",
   "metadata": {},
   "outputs": [],
   "source": [
    "import cv2\n",
    "import numpy as np\n",
    "import matplotlib.pyplot as plt\n",
    "import os\n",
    "\n",
    "# Ganti ke direktori tempat gambar berada\n",
    "os.chdir(r\"F:\\KULIAH\\SEMESTER 6\\PENGELOLAAN CITRA DIGITAL\\Jupyter Notebook\\proyek filter erosi dan gaussain\\Tugas\")\n",
    "\n",
    "# Fungsi untuk menampilkan hasil closing\n",
    "def tampilkan_closing(nama_file):\n",
    "    # Baca gambar dalam grayscale\n",
    "    gambar = cv2.imread(nama_file, cv2.IMREAD_GRAYSCALE)\n",
    "\n",
    "    # Buat kernel morfologi\n",
    "    kernel = np.ones((5, 5), np.uint8)\n",
    "\n",
    "    # Proses closing (dilasi lalu erosi)\n",
    "    hasil_closing = cv2.morphologyEx(gambar, cv2.MORPH_CLOSE, kernel)\n",
    "\n",
    "    # Simpan hasil\n",
    "    nama_output = f'closing_{nama_file}'\n",
    "    cv2.imwrite(nama_output, hasil_closing)\n",
    "\n",
    "    # Tampilkan gambar asli dan hasil closing\n",
    "    plt.figure(figsize=(10, 4))\n",
    "    plt.suptitle(f'Filter Closing untuk {nama_file}', fontsize=14)\n",
    "\n",
    "    plt.subplot(1, 2, 1)\n",
    "    plt.title('Gambar Asli')\n",
    "    plt.imshow(gambar, cmap='gray')\n",
    "    plt.axis('off')\n",
    "\n",
    "    plt.subplot(1, 2, 2)\n",
    "    plt.title('Hasil Closing')\n",
    "    plt.imshow(hasil_closing, cmap='gray')\n",
    "    plt.axis('off')\n",
    "\n",
    "    plt.tight_layout()\n",
    "    plt.show()\n",
    "\n",
    "# Jalankan untuk 2 gambar\n",
    "tampilkan_closing('1.png')\n",
    "tampilkan_closing('2.png')\n"
   ]
  }
 ],
 "metadata": {
  "kernelspec": {
   "display_name": "Python 3 (ipykernel)",
   "language": "python",
   "name": "python3"
  },
  "language_info": {
   "codemirror_mode": {
    "name": "ipython",
    "version": 3
   },
   "file_extension": ".py",
   "mimetype": "text/x-python",
   "name": "python",
   "nbconvert_exporter": "python",
   "pygments_lexer": "ipython3",
   "version": "3.13.3"
  }
 },
 "nbformat": 4,
 "nbformat_minor": 5
}
