{
 "cells": [
  {
   "cell_type": "code",
   "execution_count": null,
   "id": "8565f497-549d-47ac-8b9f-1dd5e3c63de3",
   "metadata": {},
   "outputs": [],
   "source": [
    "import cv2\n",
    "import numpy as np\n",
    "import matplotlib.pyplot as plt\n",
    "import os\n",
    "\n",
    "# Ganti direktori ke lokasi file\n",
    "os.chdir(r\"F:\\KULIAH\\SEMESTER 6\\PENGELOLAAN CITRA DIGITAL\\Jupyter Notebook\\proyek filter erosi dan gaussain\\Tugas\")\n",
    "\n",
    "# Fungsi untuk menampilkan hasil opening\n",
    "def tampilkan_opening(nama_file):\n",
    "    # Baca gambar grayscale\n",
    "    gambar = cv2.imread(nama_file, cv2.IMREAD_GRAYSCALE)\n",
    "\n",
    "    # Buat kernel struktur morfologi\n",
    "    kernel = np.ones((5, 5), np.uint8)\n",
    "\n",
    "    # Proses Opening (erosi lalu dilasi)\n",
    "    hasil_opening = cv2.morphologyEx(gambar, cv2.MORPH_OPEN, kernel)\n",
    "\n",
    "    # Simpan hasil\n",
    "    nama_output = f'opening_{nama_file}'\n",
    "    cv2.imwrite(nama_output, hasil_opening)\n",
    "\n",
    "    # Tampilkan hasil\n",
    "    plt.figure(figsize=(10, 4))\n",
    "    plt.suptitle(f'Filter Opening untuk {nama_file}', fontsize=14)\n",
    "\n",
    "    plt.subplot(1, 2, 1)\n",
    "    plt.title('Gambar Asli')\n",
    "    plt.imshow(gambar, cmap='gray')\n",
    "    plt.axis('off')\n",
    "\n",
    "    plt.subplot(1, 2, 2)\n",
    "    plt.title('Hasil Opening')\n",
    "    plt.imshow(hasil_opening, cmap='gray')\n",
    "    plt.axis('off')\n",
    "\n",
    "    plt.tight_layout()\n",
    "    plt.show()\n",
    "\n",
    "# Jalankan filter opening untuk 2 gambar\n",
    "tampilkan_opening('1.png')\n",
    "tampilkan_opening('2.png')\n"
   ]
  }
 ],
 "metadata": {
  "kernelspec": {
   "display_name": "Python 3 (ipykernel)",
   "language": "python",
   "name": "python3"
  },
  "language_info": {
   "codemirror_mode": {
    "name": "ipython",
    "version": 3
   },
   "file_extension": ".py",
   "mimetype": "text/x-python",
   "name": "python",
   "nbconvert_exporter": "python",
   "pygments_lexer": "ipython3",
   "version": "3.13.3"
  }
 },
 "nbformat": 4,
 "nbformat_minor": 5
}
