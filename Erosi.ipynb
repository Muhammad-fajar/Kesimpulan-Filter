{
 "cells": [
  {
   "cell_type": "code",
   "execution_count": null,
   "id": "ca7edff5-72e8-4a95-a363-d190d65b97e1",
   "metadata": {},
   "outputs": [],
   "source": [
    "import cv2\n",
    "import numpy as np\n",
    "import matplotlib.pyplot as plt\n",
    "import os\n",
    "\n",
    "# Ganti direktori kerja ke folder tempat file .png berada\n",
    "os.chdir(r\"F:\\KULIAH\\SEMESTER 6\\PENGELOLAAN CITRA DIGITAL\\Jupyter Notebook\\proyek filter erosi dan gaussain\\Tugas\")\n",
    "\n",
    "# Fungsi untuk menampilkan gambar asli dan hasil erosi\n",
    "def tampilkan_erosi(nama_file):\n",
    "    # Baca gambar dalam grayscale\n",
    "    gambar = cv2.imread(nama_file, cv2.IMREAD_GRAYSCALE)\n",
    "\n",
    "    # Buat kernel struktur\n",
    "    kernel = np.ones((5, 5), np.uint8)\n",
    "\n",
    "    # Proses erosi\n",
    "    hasil_erosi = cv2.erode(gambar, kernel, iterations=1)\n",
    "\n",
    "    # Simpan hasil\n",
    "    nama_output = f'erosi_{nama_file}'\n",
    "    cv2.imwrite(nama_output, hasil_erosi)\n",
    "\n",
    "    # Tampilkan hasil\n",
    "    plt.figure(figsize=(10, 4))\n",
    "    plt.suptitle(f'Erosi untuk {nama_file}', fontsize=14)\n",
    "\n",
    "    plt.subplot(1, 2, 1)\n",
    "    plt.title('Gambar Asli')\n",
    "    plt.imshow(gambar, cmap='gray')\n",
    "    plt.axis('off')\n",
    "\n",
    "    plt.subplot(1, 2, 2)\n",
    "    plt.title('Hasil Erosi')\n",
    "    plt.imshow(hasil_erosi, cmap='gray')\n",
    "    plt.axis('off')\n",
    "\n",
    "    plt.tight_layout()\n",
    "    plt.show()\n",
    "\n",
    "# Jalankan untuk 1.png dan 2.png\n",
    "tampilkan_erosi('1.png')\n",
    "tampilkan_erosi('2.png')\n"
   ]
  }
 ],
 "metadata": {
  "kernelspec": {
   "display_name": "Python 3 (ipykernel)",
   "language": "python",
   "name": "python3"
  },
  "language_info": {
   "codemirror_mode": {
    "name": "ipython",
    "version": 3
   },
   "file_extension": ".py",
   "mimetype": "text/x-python",
   "name": "python",
   "nbconvert_exporter": "python",
   "pygments_lexer": "ipython3",
   "version": "3.13.3"
  }
 },
 "nbformat": 4,
 "nbformat_minor": 5
}
